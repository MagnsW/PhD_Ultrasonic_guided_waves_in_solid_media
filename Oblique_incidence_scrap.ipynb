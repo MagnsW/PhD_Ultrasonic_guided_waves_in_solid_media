{
 "cells": [
  {
   "cell_type": "code",
   "execution_count": 1,
   "metadata": {},
   "outputs": [],
   "source": [
    "import numpy as np\n",
    "import scipy\n",
    "from matplotlib import pyplot as plt"
   ]
  },
  {
   "cell_type": "markdown",
   "metadata": {},
   "source": [
    "# Liquid-Solid Boundary Condition"
   ]
  },
  {
   "cell_type": "code",
   "execution_count": null,
   "metadata": {},
   "outputs": [],
   "source": [
    "alpha_L = \n",
    "beta_L = \n",
    "beta_T =\n",
    "k_1L =\n",
    "k_2L =\n",
    "mu_2\n"
   ]
  },
  {
   "cell_type": "code",
   "execution_count": null,
   "metadata": {},
   "outputs": [],
   "source": [
    "a = np.array([[3,1], [1,2]])\n",
    "b = np.array([9,8])"
   ]
  },
  {
   "cell_type": "code",
   "execution_count": null,
   "metadata": {},
   "outputs": [],
   "source": [
    "a"
   ]
  },
  {
   "cell_type": "code",
   "execution_count": null,
   "metadata": {},
   "outputs": [],
   "source": [
    "b"
   ]
  },
  {
   "cell_type": "code",
   "execution_count": null,
   "metadata": {},
   "outputs": [],
   "source": [
    "x = np.linalg.solve(a, b)"
   ]
  },
  {
   "cell_type": "code",
   "execution_count": null,
   "metadata": {},
   "outputs": [],
   "source": [
    "x"
   ]
  },
  {
   "cell_type": "code",
   "execution_count": null,
   "metadata": {},
   "outputs": [],
   "source": [
    "np.dot(a, x)"
   ]
  },
  {
   "cell_type": "code",
   "execution_count": 6,
   "metadata": {},
   "outputs": [],
   "source": [
    "c_1L = 2670.0  #Medium 1 longitudinal velocity - plexiglass\n",
    "c_1T = 1120.0  #Medium 1 longitudinal velocity\n",
    "\n",
    "c_2L = 5850.0 #Steel\n",
    "c_2T = 3230.0\n",
    "\n",
    "c_N = c_1L # Wave velocity of the incident wave. Can be either c_1L or c1_T"
   ]
  },
  {
   "cell_type": "code",
   "execution_count": 7,
   "metadata": {},
   "outputs": [],
   "source": [
    "angles = np.linspace(0, np.pi/2, 100)"
   ]
  },
  {
   "cell_type": "code",
   "execution_count": 8,
   "metadata": {},
   "outputs": [
    {
     "name": "stderr",
     "output_type": "stream",
     "text": [
      "C:\\Users\\Magnus\\Coding\\anaconda3\\lib\\site-packages\\ipykernel_launcher.py:1: RuntimeWarning: invalid value encountered in arcsin\n",
      "  \"\"\"Entry point for launching an IPython kernel.\n"
     ]
    }
   ],
   "source": [
    "beta_T = np.arcsin( (c_2T/c_N) * np.sin(angles))"
   ]
  },
  {
   "cell_type": "code",
   "execution_count": 15,
   "metadata": {},
   "outputs": [],
   "source": [
    "x = [c_2T / c_N * np.sin(angles[i]) for i in range(len(angles))]"
   ]
  },
  {
   "cell_type": "code",
   "execution_count": 22,
   "metadata": {},
   "outputs": [],
   "source": [
    "x = c_2T / c_N * np.sin(angles)"
   ]
  },
  {
   "cell_type": "code",
   "execution_count": 23,
   "metadata": {},
   "outputs": [],
   "source": [
    "y = [x if x < 1 else 1 for x in x]"
   ]
  },
  {
   "cell_type": "code",
   "execution_count": 24,
   "metadata": {},
   "outputs": [
    {
     "data": {
      "text/plain": [
       "[0.0,\n",
       " 0.01919365662413094,\n",
       " 0.03838248134784963,\n",
       " 0.05756164348714893,\n",
       " 0.07672631479052561,\n",
       " 0.09587167065446695,\n",
       " 0.11499289133801874,\n",
       " 0.13408516317612942,\n",
       " 0.15314367979146448,\n",
       " 0.17216364330438616,\n",
       " 0.19114026554079408,\n",
       " 0.21006876923752246,\n",
       " 0.22894438924499064,\n",
       " 0.24776237372680374,\n",
       " 0.26651798535600235,\n",
       " 0.28520650250765917,\n",
       " 0.3038232204475228,\n",
       " 0.32236345251640935,\n",
       " 0.34082253131004414,\n",
       " 0.35919580985405536,\n",
       " 0.37747866277382525,\n",
       " 0.3956664874589033,\n",
       " 0.41375470522168917,\n",
       " 0.4317387624500922,\n",
       " 0.44961413175387943,\n",
       " 0.4673763131044216,\n",
       " 0.48502083496755144,\n",
       " 0.5025432554292484,\n",
       " 0.5199391633138668,\n",
       " 0.5372041792946256,\n",
       " 0.5543339569960808,\n",
       " 0.5713241840883015,\n",
       " 0.5881705833724772,\n",
       " 0.6048689138576779,\n",
       " 0.6214149718285028,\n",
       " 0.637804591903342,\n",
       " 0.6540336480829888,\n",
       " 0.6700980547893394,\n",
       " 0.6859937678939138,\n",
       " 0.7017167857359439,\n",
       " 0.717263150129771,\n",
       " 0.7326289473612972,\n",
       " 0.7478103091732415,\n",
       " 0.7628034137389542,\n",
       " 0.7776044866245401,\n",
       " 0.7922098017390528,\n",
       " 0.8066156822725177,\n",
       " 0.8208185016215495,\n",
       " 0.8348146843023303,\n",
       " 0.8486007068507183,\n",
       " 0.8621730987092612,\n",
       " 0.8755284431008902,\n",
       " 0.8886633778890759,\n",
       " 0.9015745964242277,\n",
       " 0.9142588483761253,\n",
       " 0.9267129405521719,\n",
       " 0.9389337377012639,\n",
       " 0.9509181633030726,\n",
       " 0.9626632003425423,\n",
       " 0.974165892069408,\n",
       " 0.9854233427425411,\n",
       " 0.9964327183589363,\n",
       " 1,\n",
       " 1,\n",
       " 1,\n",
       " 1,\n",
       " 1,\n",
       " 1,\n",
       " 1,\n",
       " 1,\n",
       " 1,\n",
       " 1,\n",
       " 1,\n",
       " 1,\n",
       " 1,\n",
       " 1,\n",
       " 1,\n",
       " 1,\n",
       " 1,\n",
       " 1,\n",
       " 1,\n",
       " 1,\n",
       " 1,\n",
       " 1,\n",
       " 1,\n",
       " 1,\n",
       " 1,\n",
       " 1,\n",
       " 1,\n",
       " 1,\n",
       " 1,\n",
       " 1,\n",
       " 1,\n",
       " 1,\n",
       " 1,\n",
       " 1,\n",
       " 1,\n",
       " 1,\n",
       " 1,\n",
       " 1]"
      ]
     },
     "execution_count": 24,
     "metadata": {},
     "output_type": "execute_result"
    }
   ],
   "source": [
    "y"
   ]
  },
  {
   "cell_type": "code",
   "execution_count": 14,
   "metadata": {},
   "outputs": [
    {
     "name": "stdout",
     "output_type": "stream",
     "text": [
      "0.0\n",
      "0.01919365662413094\n",
      "0.03838248134784963\n",
      "0.05756164348714893\n",
      "0.07672631479052561\n",
      "0.09587167065446695\n",
      "0.11499289133801874\n",
      "0.13408516317612942\n",
      "0.15314367979146448\n",
      "0.17216364330438616\n",
      "0.19114026554079408\n",
      "0.21006876923752246\n",
      "0.22894438924499064\n",
      "0.24776237372680374\n",
      "0.26651798535600235\n",
      "0.28520650250765917\n",
      "0.3038232204475228\n",
      "0.32236345251640935\n",
      "0.34082253131004414\n",
      "0.35919580985405536\n",
      "0.37747866277382525\n",
      "0.3956664874589033\n",
      "0.41375470522168917\n",
      "0.4317387624500922\n",
      "0.44961413175387943\n",
      "0.4673763131044216\n",
      "0.48502083496755144\n",
      "0.5025432554292484\n",
      "0.5199391633138668\n",
      "0.5372041792946256\n",
      "0.5543339569960808\n",
      "0.5713241840883015\n",
      "0.5881705833724772\n",
      "0.6048689138576779\n",
      "0.6214149718285028\n",
      "0.637804591903342\n",
      "0.6540336480829888\n",
      "0.6700980547893394\n",
      "0.6859937678939138\n",
      "0.7017167857359439\n",
      "0.717263150129771\n",
      "0.7326289473612972\n",
      "0.7478103091732415\n",
      "0.7628034137389542\n",
      "0.7776044866245401\n",
      "0.7922098017390528\n",
      "0.8066156822725177\n",
      "0.8208185016215495\n",
      "0.8348146843023303\n",
      "0.8486007068507183\n",
      "0.8621730987092612\n",
      "0.8755284431008902\n",
      "0.8886633778890759\n",
      "0.9015745964242277\n",
      "0.9142588483761253\n",
      "0.9267129405521719\n",
      "0.9389337377012639\n",
      "0.9509181633030726\n",
      "0.9626632003425423\n",
      "0.974165892069408\n",
      "0.9854233427425411\n",
      "0.9964327183589363\n",
      "1\n",
      "1\n",
      "1\n",
      "1\n",
      "1\n",
      "1\n",
      "1\n",
      "1\n",
      "1\n",
      "1\n",
      "1\n",
      "1\n",
      "1\n",
      "1\n",
      "1\n",
      "1\n",
      "1\n",
      "1\n",
      "1\n",
      "1\n",
      "1\n",
      "1\n",
      "1\n",
      "1\n",
      "1\n",
      "1\n",
      "1\n",
      "1\n",
      "1\n",
      "1\n",
      "1\n",
      "1\n",
      "1\n",
      "1\n",
      "1\n",
      "1\n",
      "1\n",
      "1\n"
     ]
    }
   ],
   "source": [
    "for i in range(len(angles)):\n",
    "    x = min(1, c_2T / c_N * np.sin(angles[i]))\n",
    "    print(x)"
   ]
  },
  {
   "cell_type": "code",
   "execution_count": null,
   "metadata": {},
   "outputs": [],
   "source": [
    "n_air = 1\n",
    "n_glass = 1.5\n",
    "n_diamond = 2.4\n",
    "\n",
    "def alpha(n1=n_air, n2=n_glass, incident_angle=0):\n",
    "    numerator_squared = 1 - ( n1 / n2 * np.sin(incident_angle) )**2\n",
    "    numerator = np.sqrt(numerator_squared)\n",
    "    denominator = np.cos(incident_angle)\n",
    "    res = numerator / denominator\n",
    "    return res\n",
    "\n",
    "def beta(n1=n_air, n2=n_glass, mu1=1, mu2=1):\n",
    "    permeabilities = mu1 / mu2\n",
    "    refraction_indices = n2 / n1\n",
    "    res = permeabilities * refraction_indices\n",
    "    return res\n",
    "\n",
    "def r(n1=n_air, n2=n_glass, mu1=1, mu2=1, incident_angle=0):\n",
    "    a, b = alpha(n1, n2, incident_angle), beta(n1, n2, mu1, mu2)\n",
    "    numerator = a - b\n",
    "    denominator = a + b\n",
    "    res = numerator / denominator\n",
    "    return res\n",
    "\n",
    "def t(n1=n_air, n2=n_glass, mu1=1, mu2=1, incident_angle=0):\n",
    "    a, b = alpha(n1, n2, incident_angle), beta(n1, n2, mu1, mu2)\n",
    "    denominator = a + b\n",
    "    res = 2 / denominator\n",
    "    return res\n",
    "\n",
    "angles = np.linspace(0, np.pi/2, 100)\n",
    "rs = r(n1=n_glass, n2=n_diamond, incident_angle=angles)\n",
    "ts = t(n1=n_glass, n2=n_diamond, incident_angle=angles)\n"
   ]
  },
  {
   "cell_type": "code",
   "execution_count": null,
   "metadata": {},
   "outputs": [],
   "source": [
    "rs"
   ]
  },
  {
   "cell_type": "code",
   "execution_count": null,
   "metadata": {},
   "outputs": [],
   "source": [
    "plt.figure(figsize=(16, 10))\n",
    "plt.plot(angles, rs, label='Reflection')\n",
    "plt.plot(angles, ts, label='Transmission')\n",
    "plt.legend()\n",
    "plt.grid()\n",
    "plt.xlabel('Incidence angle')\n",
    "plt.ylabel('Magnitude')\n",
    "plt.show()"
   ]
  },
  {
   "cell_type": "code",
   "execution_count": null,
   "metadata": {},
   "outputs": [],
   "source": [
    "# Aluminum-plexiglass interface\n",
    "#\n",
    "c_aluminum_L = 6300.0\n",
    "c_aluminum_T = 3100.0\n",
    "c_N = c_aluminum_L\n",
    "c_1T = c_aluminum_T\n",
    "c_1L = c_aluminum_L\n",
    "c_2T = 2670.0\n",
    "c_2L = 1120.0"
   ]
  },
  {
   "cell_type": "code",
   "execution_count": null,
   "metadata": {},
   "outputs": [],
   "source": [
    "c_N"
   ]
  },
  {
   "cell_type": "code",
   "execution_count": null,
   "metadata": {},
   "outputs": [],
   "source": [
    "angles"
   ]
  },
  {
   "cell_type": "code",
   "execution_count": null,
   "metadata": {},
   "outputs": [],
   "source": [
    "alpha_T = np.arcsin((c_1T/c_N) * np.sin(angles))\n",
    "alpha_L = np.arcsin((c_1L/c_N) * np.sin(angles))\n",
    "beta_T = np.arcsin((c_2T/c_N) * np.sin(angles))\n",
    "beta_L = np.arcsin((c_2L/c_N) * np.sin(angles))"
   ]
  },
  {
   "cell_type": "code",
   "execution_count": null,
   "metadata": {},
   "outputs": [],
   "source": [
    "#alpha_T"
   ]
  },
  {
   "cell_type": "code",
   "execution_count": null,
   "metadata": {
    "scrolled": false
   },
   "outputs": [],
   "source": [
    "plt.figure(figsize=(12, 8))\n",
    "plt.plot(angles, alpha_T, label='Reflection angle - Transverse')\n",
    "plt.plot(angles, alpha_L, label='Reflection angle - Longitudinal')\n",
    "plt.plot(angles, beta_T, label='Refraction angle - Transverse')\n",
    "plt.plot(angles, beta_L, label='Refraction angle - Longitudinal')\n",
    "plt.grid()\n",
    "plt.legend()\n",
    "plt.xlabel('Incidence angle')\n",
    "plt.ylabel('Reflection/refraction angle')\n",
    "plt.show()"
   ]
  },
  {
   "cell_type": "code",
   "execution_count": null,
   "metadata": {},
   "outputs": [],
   "source": [
    "angle_x, angle_y = -np.cos(angles[idx]), np.sin(angles[idx])\n",
    "alpha_T_x, alpha_T_y = np.cos(alpha_T[idx]), np.sin(alpha_T[idx])\n",
    "alpha_L_x, alpha_L_y = np.cos(alpha_L[idx]), np.sin(alpha_L[idx])\n",
    "beta_T_x, beta_T_y = np.cos(beta_T[idx]), -np.sin(beta_T[idx])\n",
    "beta_L_x, beta_L_y = np.cos(beta_L[idx]), -np.sin(beta_L[idx])"
   ]
  },
  {
   "cell_type": "code",
   "execution_count": null,
   "metadata": {},
   "outputs": [],
   "source": [
    "idx = 50\n",
    "angle_coords = (-np.cos(angles[idx]), np.sin(angles[idx]))\n",
    "alpha_T_coords = (np.cos(alpha_T[idx]), np.sin(alpha_T[idx]))\n",
    "alpha_L_coords = (np.cos(alpha_L[idx]), np.sin(alpha_L[idx]))\n",
    "beta_T_coords = (np.cos(beta_T[idx]), -np.sin(beta_T[idx]))\n",
    "beta_L_coords = (np.cos(beta_L[idx]), -np.sin(beta_L[idx]))"
   ]
  },
  {
   "cell_type": "code",
   "execution_count": null,
   "metadata": {},
   "outputs": [],
   "source": [
    "angle_coords[0]"
   ]
  },
  {
   "cell_type": "code",
   "execution_count": null,
   "metadata": {},
   "outputs": [],
   "source": [
    "plt.figure(figsize=(12, 8))\n",
    "plt.hlines(0, -1, 1)\n",
    "plt.vlines(0, -1, 1)\n",
    "plt.plot([angle_coords[0], 0], [angle_coords[1], 0], 'g-')\n",
    "plt.plot([0, alpha_T_coords[0]], [0, alpha_T_coords[1]], 'r-' )\n",
    "plt.plot([0, alpha_L_coords[0]], [0, alpha_L_coords[1]], 'b-')\n",
    "plt.plot([0, beta_T_coords[0]], [0, beta_T_coords[1]], 'r--')\n",
    "plt.plot([0, beta_L_coords[0]], [0, beta_L_coords[1]], 'b--')\n",
    "plt.axis('equal')\n",
    "\n",
    "plt.show()"
   ]
  },
  {
   "cell_type": "code",
   "execution_count": null,
   "metadata": {},
   "outputs": [],
   "source": [
    "angle_x, angle_y"
   ]
  },
  {
   "cell_type": "code",
   "execution_count": null,
   "metadata": {},
   "outputs": [],
   "source": [
    "idx = 15\n",
    "M = np.array([[-np.cos(alpha_L[idx]), np.sin(alpha_T[idx]), -np.cos(beta_L[idx]), np.sin(beta_T[idx])],\n",
    "            [-np.sin(alpha_L[idx]), np.cos(alpha_T[idx]), np.sin(beta_L[idx]), np.cos(beta_T[idx])]])"
   ]
  },
  {
   "cell_type": "code",
   "execution_count": null,
   "metadata": {},
   "outputs": [],
   "source": [
    "idx = 15\n",
    "M = np.array([[-np.cos(alpha_L[idx]), np.sin(alpha_T[idx])],\n",
    "            [-np.sin(alpha_L[idx]), np.cos(alpha_T[idx]), ]])"
   ]
  },
  {
   "cell_type": "code",
   "execution_count": null,
   "metadata": {},
   "outputs": [],
   "source": [
    "M = np.array([[-np.cos(alpha_L), np.sin(alpha_T)],\n",
    "            [-np.sin(alpha_L), np.cos(alpha_T), ]])"
   ]
  },
  {
   "cell_type": "code",
   "execution_count": null,
   "metadata": {},
   "outputs": [],
   "source": [
    "M"
   ]
  },
  {
   "cell_type": "code",
   "execution_count": null,
   "metadata": {},
   "outputs": [],
   "source": [
    "a_L = np.array([[-np.cos(alpha_L[idx])],\n",
    "               [np.sin(alpha_L[idx])]])"
   ]
  },
  {
   "cell_type": "code",
   "execution_count": null,
   "metadata": {},
   "outputs": [],
   "source": [
    "a_L = np.array([[-np.cos(alpha_L)],\n",
    "               [np.sin(alpha_L)]])"
   ]
  },
  {
   "cell_type": "code",
   "execution_count": null,
   "metadata": {},
   "outputs": [],
   "source": [
    "x = np.linalg.solve(M, a_L)"
   ]
  },
  {
   "cell_type": "code",
   "execution_count": null,
   "metadata": {},
   "outputs": [],
   "source": [
    "x"
   ]
  },
  {
   "cell_type": "code",
   "execution_count": null,
   "metadata": {},
   "outputs": [],
   "source": [
    "#M = np.zeros(len(angles))\n",
    "for idx in range(len(angles)):\n",
    "    M = np.array([[-np.cos(alpha_L[idx]), np.sin(alpha_T[idx])],\n",
    "            [-np.sin(alpha_L[idx]), np.cos(alpha_T[idx])]])\n",
    "    a_L = np.array([[-np.cos(alpha_L[idx])],\n",
    "               [np.sin(alpha_L[idx])]])\n",
    "    x = np.linalg.solve(M, a_L)\n",
    "    print(idx, x)"
   ]
  },
  {
   "cell_type": "code",
   "execution_count": null,
   "metadata": {},
   "outputs": [],
   "source": [
    "M"
   ]
  },
  {
   "cell_type": "code",
   "execution_count": 30,
   "metadata": {},
   "outputs": [],
   "source": [
    "testlist = [-2, 3, 5, -3, 4, 6, 6, -1, -7]"
   ]
  },
  {
   "cell_type": "code",
   "execution_count": 31,
   "metadata": {},
   "outputs": [
    {
     "data": {
      "text/plain": [
       "6"
      ]
     },
     "execution_count": 31,
     "metadata": {},
     "output_type": "execute_result"
    }
   ],
   "source": [
    "max(testlist)"
   ]
  },
  {
   "cell_type": "code",
   "execution_count": 32,
   "metadata": {},
   "outputs": [
    {
     "data": {
      "text/plain": [
       "-7"
      ]
     },
     "execution_count": 32,
     "metadata": {},
     "output_type": "execute_result"
    }
   ],
   "source": [
    "min(testlist)"
   ]
  },
  {
   "cell_type": "code",
   "execution_count": 33,
   "metadata": {},
   "outputs": [
    {
     "data": {
      "text/plain": [
       "7"
      ]
     },
     "execution_count": 33,
     "metadata": {},
     "output_type": "execute_result"
    }
   ],
   "source": [
    "max(np.abs(testlist))"
   ]
  },
  {
   "cell_type": "code",
   "execution_count": null,
   "metadata": {},
   "outputs": [],
   "source": []
  }
 ],
 "metadata": {
  "kernelspec": {
   "display_name": "Python 3",
   "language": "python",
   "name": "python3"
  },
  "language_info": {
   "codemirror_mode": {
    "name": "ipython",
    "version": 3
   },
   "file_extension": ".py",
   "mimetype": "text/x-python",
   "name": "python",
   "nbconvert_exporter": "python",
   "pygments_lexer": "ipython3",
   "version": "3.7.6"
  }
 },
 "nbformat": 4,
 "nbformat_minor": 4
}
